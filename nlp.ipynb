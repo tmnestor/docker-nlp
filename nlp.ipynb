{
 "cells": [
  {
   "cell_type": "markdown",
   "id": "44455aad-0d50-4a8d-816a-6551e2e91035",
   "metadata": {},
   "source": [
    "### [Index of /reimers/sentence-transformers/v0.2/](https://public.ukp.informatik.tu-darmstadt.de/reimers/sentence-transformers/v0.2/)"
   ]
  },
  {
   "cell_type": "code",
   "execution_count": 4,
   "id": "531412dd-62c1-4064-b71c-5930c024d219",
   "metadata": {},
   "outputs": [
    {
     "name": "stdout",
     "output_type": "stream",
     "text": [
      "model=SentenceTransformer(\n",
      "  (0): Transformer({'max_seq_length': 25, 'do_lower_case': True}) with Transformer model: BertModel \n",
      "  (1): Pooling({'word_embedding_dimension': 384, 'pooling_mode_cls_token': True, 'pooling_mode_mean_tokens': False, 'pooling_mode_max_tokens': False, 'pooling_mode_mean_sqrt_len_tokens': False, 'pooling_mode_weightedmean_tokens': False, 'pooling_mode_lasttoken': False, 'include_prompt': True})\n",
      ")\n"
     ]
    }
   ],
   "source": [
    "from sentence_transformers import SentenceTransformer, LoggingHandler\n",
    "from sentence_transformers import models, util, datasets, evaluation, losses\n",
    "from torch.utils.data import DataLoader\n",
    "\n",
    "# MODEL = 'all-mpnet-base-v2'\n",
    "MODEL = 'all-MiniLM-L6-v2'\n",
    "# MODEL = 'all-MiniLM-L12-v2\n",
    "\n",
    "\n",
    "################# LOAD SENTENCE TRANSFORMER MODEL ###########################\n",
    "# Load the embedding model and tokenizer manually\n",
    "\n",
    "word_embedding_model = models.Transformer(MODEL)\n",
    "\n",
    "pooling_model = models.Pooling(word_embedding_model.get_word_embedding_dimension())\n",
    "# Assemble the sentence transformer model\n",
    "model = SentenceTransformer(modules=[word_embedding_model, pooling_model])\n",
    "\n",
    "MAX_SEQ_LENGTH = 25\n",
    "\n",
    "model[0].max_seq_length = MAX_SEQ_LENGTH\n",
    "model[0].tokenizer.max_seq_length = MAX_SEQ_LENGTH\n",
    "model[0].do_lower_case = True\n",
    "model[1].pooling_mode_cls_token=True\n",
    "model[1].pooling_mode_mean_tokens=False\n",
    "model[1].pooling_mode_max_tokens=False\n",
    "model[1].pooling_mode_mean_sqrt_len_tokens=False\n",
    "model[1].pooling_mode_weightedmean_tokens=False\n",
    "model[1].pooling_mode_lasttoken=False\n",
    "\n",
    "print(f\"{model=}\")"
   ]
  },
  {
   "cell_type": "code",
   "execution_count": null,
   "id": "0642dacd-3f44-40d4-871c-5204840becb0",
   "metadata": {},
   "outputs": [],
   "source": []
  }
 ],
 "metadata": {
  "kernelspec": {
   "display_name": "Python 3 (ipykernel)",
   "language": "python",
   "name": "python3"
  },
  "language_info": {
   "codemirror_mode": {
    "name": "ipython",
    "version": 3
   },
   "file_extension": ".py",
   "mimetype": "text/x-python",
   "name": "python",
   "nbconvert_exporter": "python",
   "pygments_lexer": "ipython3",
   "version": "3.11.11"
  }
 },
 "nbformat": 4,
 "nbformat_minor": 5
}
